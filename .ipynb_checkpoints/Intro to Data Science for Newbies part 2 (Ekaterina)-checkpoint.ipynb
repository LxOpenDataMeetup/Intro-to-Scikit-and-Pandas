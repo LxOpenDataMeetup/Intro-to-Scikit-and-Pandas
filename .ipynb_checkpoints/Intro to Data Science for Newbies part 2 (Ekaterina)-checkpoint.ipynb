{
 "cells": [
  {
   "cell_type": "code",
   "execution_count": 2,
   "metadata": {
    "collapsed": true
   },
   "outputs": [],
   "source": [
    "import numpy as np\n",
    "import math, codecs\n",
    "from IPython.display import Image"
   ]
  },
  {
   "cell_type": "markdown",
   "metadata": {},
   "source": [
    "# get a glimpse of how Naive Bayes works"
   ]
  },
  {
   "cell_type": "code",
   "execution_count": 4,
   "metadata": {
    "collapsed": false
   },
   "outputs": [
    {
     "name": "stdout",
     "output_type": "stream",
     "text": [
      "Intro to Data Science for Newbies part 1 (Pedro).ipynb      README.md\r\n",
      "Intro to Data Science for Newbies part 2 (Ekaterina).ipynb  \u001b[0m\u001b[01;34mslides\u001b[0m/\r\n",
      "\u001b[01;34mOthers\u001b[0m/                                                     \u001b[01;34mtitanic_data\u001b[0m/\r\n"
     ]
    }
   ],
   "source": [
    "ls"
   ]
  },
  {
   "cell_type": "code",
   "execution_count": 5,
   "metadata": {
    "collapsed": false
   },
   "outputs": [
    {
     "name": "stdout",
     "output_type": "stream",
     "text": [
      "\u001b[0m\u001b[01;35m20121202-210149.jpg\u001b[0m\r\n",
      "\u001b[01;35marrays.png\u001b[0m\r\n",
      "\u001b[01;35mbucket_small.jpg\u001b[0m\r\n",
      "\u001b[01;35mdf6e1227-49e5-4086-a87a-dbe04bb36c45-original.png\u001b[0m\r\n",
      "\u001b[01;35mgob-bluth.jpg\u001b[0m\r\n",
      "\u001b[01;35mis_he_telling_the_truth.jpg\u001b[0m\r\n",
      "\u001b[01;35mLogReg_1.png\u001b[0m\r\n",
      "\u001b[01;35mmachine_learning.jpg\u001b[0m\r\n",
      "\u001b[01;35mmatplotlib.png\u001b[0m\r\n",
      "\u001b[01;35mmetrics.png\u001b[0m\r\n",
      "\u001b[01;35mml_map.png\u001b[0m\r\n",
      "\u001b[01;35mml-robot.png\u001b[0m\r\n",
      "naive_bayes_doc6.PNG\r\n",
      "naive_bayes_goal.PNG\r\n",
      "\u001b[01;35mpandas and scikit.png\u001b[0m\r\n",
      "\u001b[01;35mpandas-drinking-cr.png\u001b[0m\r\n",
      "\u001b[01;35mparetto.png\u001b[0m\r\n",
      "\u001b[01;35mpartition.png\u001b[0m\r\n",
      "\u001b[01;35mpython.png\u001b[0m\r\n",
      "\u001b[01;35mreg.png\u001b[0m\r\n",
      "\u001b[01;35mscikit-learn-logo-notext.png\u001b[0m\r\n",
      "\u001b[01;35mself-reference.jpg\u001b[0m\r\n",
      "\u001b[01;35mtitanic.jpeg\u001b[0m\r\n",
      "\u001b[01;35munderfitting-overfitting.png\u001b[0m\r\n",
      "\u001b[01;35mWARNING-Unregulated-Advice.jpg\u001b[0m\r\n",
      "\u001b[01;35mwhat_is.png\u001b[0m\r\n"
     ]
    }
   ],
   "source": [
    "ls slides/"
   ]
  },
  {
   "cell_type": "code",
   "execution_count": 6,
   "metadata": {
    "collapsed": false
   },
   "outputs": [
    {
     "data": {
      "image/png": "[encoded data removed]",
      "text/plain": [
       "<IPython.core.display.Image object>"
      ]
     },
     "execution_count": 6,
     "metadata": {},
     "output_type": "execute_result"
    }
   ],
   "source": [
    "Image(filename=\"slides/naive_bayes_goal.PNG\")"
   ]
  },
  {
   "cell_type": "markdown",
   "metadata": {},
   "source": [
    "# get a glimpse of the toy data"
   ]
  },
  {
   "cell_type": "code",
   "execution_count": null,
   "metadata": {
    "collapsed": false
   },
   "outputs": [],
   "source": [
    "Image(filename=\"Sent_analysis_toy_data.png\")"
   ]
  },
  {
   "cell_type": "code",
   "execution_count": null,
   "metadata": {
    "collapsed": false
   },
   "outputs": [],
   "source": [
    "Image(filename=\"naive_bayes_goal.png\")"
   ]
  },
  {
   "cell_type": "code",
   "execution_count": null,
   "metadata": {
    "collapsed": false
   },
   "outputs": [],
   "source": [
    "Image(filename=\"Sent_analysis_toy_data.png\")"
   ]
  },
  {
   "cell_type": "code",
   "execution_count": null,
   "metadata": {
    "collapsed": false
   },
   "outputs": [],
   "source": [
    "Image(filename=\"naive_bayes_posterior_just_counting.png\")"
   ]
  },
  {
   "cell_type": "markdown",
   "metadata": {},
   "source": [
    "# That can't be - the probability of word1 in a negative document is 0? Let's smooth it:"
   ]
  },
  {
   "cell_type": "code",
   "execution_count": null,
   "metadata": {
    "collapsed": false
   },
   "outputs": [],
   "source": [
    "Image(filename=\"naive_bayes_smoothing.png\")"
   ]
  },
  {
   "cell_type": "markdown",
   "metadata": {},
   "source": [
    "# what is the class of doc6? Is it positive (1) or negative (0)?"
   ]
  },
  {
   "cell_type": "code",
   "execution_count": null,
   "metadata": {
    "collapsed": false
   },
   "outputs": [],
   "source": [
    "Image(filename=\"Sent_analysis_toy_data.png\")"
   ]
  },
  {
   "cell_type": "code",
   "execution_count": null,
   "metadata": {
    "collapsed": false
   },
   "outputs": [],
   "source": [
    "Image(filename=\"naive_bayes_doc6.png\")"
   ]
  },
  {
   "cell_type": "code",
   "execution_count": null,
   "metadata": {
    "collapsed": true
   },
   "outputs": [],
   "source": [
    "doc1 = \"word1 word1 word2 word2 word2 word2 word3\"\n",
    "doc2 = \"word2 word2 word2\"\n",
    "doc3 = \"word1 word1 word1 word1 word2 word2 word4\"\n",
    "doc4 = \"word3 word3 word3 word4 word4\"\n",
    "doc5 = \"word2 word2 word2 word2 word2 word2 word3 word3 word4 word4 word4 word4 word4 word4\"\n",
    "\n",
    "docs = [doc1, doc2, doc3, doc4, doc5]\n",
    "\n",
    "doc_classes = [1, 0, 1, 1, 0]\n",
    "\n",
    "doc6 = \"word1 word3 word3 word3\""
   ]
  },
  {
   "cell_type": "markdown",
   "metadata": {},
   "source": [
    "# Let's process the data - FIRST pass over the data"
   ]
  },
  {
   "cell_type": "code",
   "execution_count": null,
   "metadata": {
    "collapsed": false
   },
   "outputs": [],
   "source": [
    "unique_words = []\n",
    "\n",
    "for doc in docs:\n",
    "    words = doc.split(\" \")\n",
    "    for word in words:\n",
    "        if word not in unique_words:\n",
    "            unique_words.append(word)\n",
    "            \n",
    "np_unique_words = np.array(unique_words)\n",
    "print np_unique_words"
   ]
  },
  {
   "cell_type": "code",
   "execution_count": null,
   "metadata": {
    "collapsed": false
   },
   "outputs": [],
   "source": [
    "unique_classes = list(set(classes))\n",
    "np_unique_classes = np.unique(unique_classes)\n",
    "\n",
    "possitive_class_probability = \n",
    "negative_class_probability = \n",
    "\n",
    "print np_unique_classes"
   ]
  },
  {
   "cell_type": "markdown",
   "metadata": {},
   "source": [
    "# SECOND pass over the data"
   ]
  },
  {
   "cell_type": "code",
   "execution_count": null,
   "metadata": {
    "collapsed": false
   },
   "outputs": [],
   "source": [
    "word_count = np.zeros((len(unique_classes), len(unique_words)))\n",
    "print word_count"
   ]
  },
  {
   "cell_type": "code",
   "execution_count": null,
   "metadata": {
    "collapsed": false
   },
   "outputs": [],
   "source": [
    "for i in xrange(len(docs)):\n",
    "    doc = docs[i]\n",
    "    words = doc.split(\" \")\n",
    "    label = doc_classes[i]\n",
    "    for word in words:\n",
    "        word_index = np.where(np_unique_words == word)[0][0]\n",
    "        current_count = word_count[label, word_index]\n",
    "        word_count[label, word_index] = current_count + 1\n",
    "        #word_count[]\n",
    "        \n",
    "print word_count"
   ]
  },
  {
   "cell_type": "markdown",
   "metadata": {},
   "source": [
    "# great, until here we have a matrix with the word counts for the two classes, (+) and (-), we have the count for all words in (+) and in (-), and we have the probabilyt of (+) and (-), also called the prior probability"
   ]
  },
  {
   "cell_type": "markdown",
   "metadata": {},
   "source": [
    "# to complete: 1) smooth, 2) calculate the probability of doc6 to be of class (+) and class (-) and assign one of these classes to doc6"
   ]
  },
  {
   "cell_type": "code",
   "execution_count": null,
   "metadata": {
    "collapsed": true
   },
   "outputs": [],
   "source": []
  }
 ],
 "metadata": {
  "kernelspec": {
   "display_name": "Python 2",
   "language": "python",
   "name": "python2"
  },
  "language_info": {
   "codemirror_mode": {
    "name": "ipython",
    "version": 2
   },
   "file_extension": ".py",
   "mimetype": "text/x-python",
   "name": "python",
   "nbconvert_exporter": "python",
   "pygments_lexer": "ipython2",
   "version": "2.7.6"
  }
 },
 "nbformat": 4,
 "nbformat_minor": 0
}
